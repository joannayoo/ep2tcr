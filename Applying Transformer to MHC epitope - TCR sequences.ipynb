{
 "cells": [
  {
   "cell_type": "code",
   "execution_count": 1,
   "metadata": {
    "scrolled": true
   },
   "outputs": [],
   "source": [
    "%reload_ext autoreload\n",
    "%autoreload 2\n",
    "\n",
    "import string\n",
    "import pandas as pd\n",
    "import os\n"
   ]
  },
  {
   "cell_type": "markdown",
   "metadata": {},
   "source": [
    "### VDJDB\n",
    "\n",
    "Exploring VDJDB. The essential parts for TCR prediction\n",
    "```\n",
    "antigen.epitope: Amino acid sequence of the epitope.\n",
    "\n",
    "cdr3: TCR complementarity determining region 3 (CDR3) amino acid sequence.\n",
    "\n",
    "vdjdb.score: VDJdb confidence score, the higher is the score the more confidence we have in the antigen specificity annotation of a given TCR clonotype/clone. Zero score indicates that there are insufficient method details to draw any conclusion.\n",
    "```"
   ]
  },
  {
   "cell_type": "code",
   "execution_count": 2,
   "metadata": {
    "scrolled": true
   },
   "outputs": [
    {
     "data": {
      "text/html": [
       "<div>\n",
       "<style scoped>\n",
       "    .dataframe tbody tr th:only-of-type {\n",
       "        vertical-align: middle;\n",
       "    }\n",
       "\n",
       "    .dataframe tbody tr th {\n",
       "        vertical-align: top;\n",
       "    }\n",
       "\n",
       "    .dataframe thead th {\n",
       "        text-align: right;\n",
       "    }\n",
       "</style>\n",
       "<table border=\"1\" class=\"dataframe\">\n",
       "  <thead>\n",
       "    <tr style=\"text-align: right;\">\n",
       "      <th></th>\n",
       "      <th>name</th>\n",
       "      <th>type</th>\n",
       "      <th>visible</th>\n",
       "      <th>searchable</th>\n",
       "      <th>autocomplete</th>\n",
       "      <th>data.type</th>\n",
       "      <th>title</th>\n",
       "      <th>comment</th>\n",
       "    </tr>\n",
       "    <tr>\n",
       "      <th>name</th>\n",
       "      <th></th>\n",
       "      <th></th>\n",
       "      <th></th>\n",
       "      <th></th>\n",
       "      <th></th>\n",
       "      <th></th>\n",
       "      <th></th>\n",
       "      <th></th>\n",
       "    </tr>\n",
       "  </thead>\n",
       "  <tbody>\n",
       "    <tr>\n",
       "      <td>complex.id</td>\n",
       "      <td>complex.id</td>\n",
       "      <td>txt</td>\n",
       "      <td>0</td>\n",
       "      <td>0</td>\n",
       "      <td>0</td>\n",
       "      <td>complex.id</td>\n",
       "      <td>complex.id</td>\n",
       "      <td>TCR alpha and beta chain records having the same complex identifier belong to the same T-cell cl...</td>\n",
       "    </tr>\n",
       "    <tr>\n",
       "      <td>gene</td>\n",
       "      <td>gene</td>\n",
       "      <td>txt</td>\n",
       "      <td>1</td>\n",
       "      <td>1</td>\n",
       "      <td>1</td>\n",
       "      <td>factor</td>\n",
       "      <td>Gene</td>\n",
       "      <td>TCR chain: alpha or beta.</td>\n",
       "    </tr>\n",
       "    <tr>\n",
       "      <td>cdr3</td>\n",
       "      <td>cdr3</td>\n",
       "      <td>seq</td>\n",
       "      <td>1</td>\n",
       "      <td>1</td>\n",
       "      <td>0</td>\n",
       "      <td>cdr3</td>\n",
       "      <td>CDR3</td>\n",
       "      <td>TCR complementarity determining region 3 (CDR3) amino acid sequence.</td>\n",
       "    </tr>\n",
       "    <tr>\n",
       "      <td>v.segm</td>\n",
       "      <td>v.segm</td>\n",
       "      <td>txt</td>\n",
       "      <td>1</td>\n",
       "      <td>1</td>\n",
       "      <td>1</td>\n",
       "      <td>factor</td>\n",
       "      <td>V</td>\n",
       "      <td>TCR Variable segment allele.</td>\n",
       "    </tr>\n",
       "    <tr>\n",
       "      <td>j.segm</td>\n",
       "      <td>j.segm</td>\n",
       "      <td>txt</td>\n",
       "      <td>1</td>\n",
       "      <td>1</td>\n",
       "      <td>1</td>\n",
       "      <td>factor</td>\n",
       "      <td>J</td>\n",
       "      <td>TCR Joining segment allele.</td>\n",
       "    </tr>\n",
       "    <tr>\n",
       "      <td>species</td>\n",
       "      <td>species</td>\n",
       "      <td>txt</td>\n",
       "      <td>1</td>\n",
       "      <td>1</td>\n",
       "      <td>1</td>\n",
       "      <td>factor</td>\n",
       "      <td>Species</td>\n",
       "      <td>TCR parent species.</td>\n",
       "    </tr>\n",
       "    <tr>\n",
       "      <td>mhc.a</td>\n",
       "      <td>mhc.a</td>\n",
       "      <td>txt</td>\n",
       "      <td>1</td>\n",
       "      <td>1</td>\n",
       "      <td>1</td>\n",
       "      <td>factor</td>\n",
       "      <td>MHC A</td>\n",
       "      <td>First MHC chain allele.</td>\n",
       "    </tr>\n",
       "    <tr>\n",
       "      <td>mhc.b</td>\n",
       "      <td>mhc.b</td>\n",
       "      <td>txt</td>\n",
       "      <td>1</td>\n",
       "      <td>1</td>\n",
       "      <td>1</td>\n",
       "      <td>factor</td>\n",
       "      <td>MHC B</td>\n",
       "      <td>Second MHC chain allele (defaults to Beta2Microglobulin for MHC class I).</td>\n",
       "    </tr>\n",
       "    <tr>\n",
       "      <td>mhc.class</td>\n",
       "      <td>mhc.class</td>\n",
       "      <td>txt</td>\n",
       "      <td>1</td>\n",
       "      <td>1</td>\n",
       "      <td>1</td>\n",
       "      <td>factor</td>\n",
       "      <td>MHC class</td>\n",
       "      <td>MHC class (I or II).</td>\n",
       "    </tr>\n",
       "    <tr>\n",
       "      <td>antigen.epitope</td>\n",
       "      <td>antigen.epitope</td>\n",
       "      <td>seq</td>\n",
       "      <td>1</td>\n",
       "      <td>1</td>\n",
       "      <td>1</td>\n",
       "      <td>peptide</td>\n",
       "      <td>Epitope</td>\n",
       "      <td>Amino acid sequence of the epitope.</td>\n",
       "    </tr>\n",
       "    <tr>\n",
       "      <td>antigen.gene</td>\n",
       "      <td>antigen.gene</td>\n",
       "      <td>txt</td>\n",
       "      <td>1</td>\n",
       "      <td>1</td>\n",
       "      <td>1</td>\n",
       "      <td>factor</td>\n",
       "      <td>Epitope gene</td>\n",
       "      <td>Representative parent gene of the epitope.</td>\n",
       "    </tr>\n",
       "    <tr>\n",
       "      <td>antigen.species</td>\n",
       "      <td>antigen.species</td>\n",
       "      <td>txt</td>\n",
       "      <td>1</td>\n",
       "      <td>1</td>\n",
       "      <td>1</td>\n",
       "      <td>factor</td>\n",
       "      <td>Epitope species</td>\n",
       "      <td>Representative parent species of the epitope.</td>\n",
       "    </tr>\n",
       "    <tr>\n",
       "      <td>reference.id</td>\n",
       "      <td>reference.id</td>\n",
       "      <td>txt</td>\n",
       "      <td>1</td>\n",
       "      <td>1</td>\n",
       "      <td>1</td>\n",
       "      <td>url</td>\n",
       "      <td>Reference</td>\n",
       "      <td>Pubmed reference / URL / or submitter details in case unpublished.</td>\n",
       "    </tr>\n",
       "    <tr>\n",
       "      <td>method</td>\n",
       "      <td>method</td>\n",
       "      <td>txt</td>\n",
       "      <td>1</td>\n",
       "      <td>0</td>\n",
       "      <td>0</td>\n",
       "      <td>method.json</td>\n",
       "      <td>Method</td>\n",
       "      <td>Details on method used to assay TCR specificity.</td>\n",
       "    </tr>\n",
       "    <tr>\n",
       "      <td>meta</td>\n",
       "      <td>meta</td>\n",
       "      <td>txt</td>\n",
       "      <td>1</td>\n",
       "      <td>0</td>\n",
       "      <td>0</td>\n",
       "      <td>meta.json</td>\n",
       "      <td>Meta</td>\n",
       "      <td>Various meta-information: cell subset, donor status, etc.</td>\n",
       "    </tr>\n",
       "    <tr>\n",
       "      <td>cdr3fix</td>\n",
       "      <td>cdr3fix</td>\n",
       "      <td>txt</td>\n",
       "      <td>1</td>\n",
       "      <td>0</td>\n",
       "      <td>0</td>\n",
       "      <td>fixer.json</td>\n",
       "      <td>CDR3fix</td>\n",
       "      <td>Details on CDR3 sequence fixing (if applied) and consistency between V, J and reported CDR3 sequ...</td>\n",
       "    </tr>\n",
       "    <tr>\n",
       "      <td>vdjdb.score</td>\n",
       "      <td>vdjdb.score</td>\n",
       "      <td>txt</td>\n",
       "      <td>1</td>\n",
       "      <td>1</td>\n",
       "      <td>0</td>\n",
       "      <td>uint</td>\n",
       "      <td>Score</td>\n",
       "      <td>VDJdb confidence score, the higher is the score the more confidence we have in the antigen speci...</td>\n",
       "    </tr>\n",
       "    <tr>\n",
       "      <td>web.method</td>\n",
       "      <td>web.method</td>\n",
       "      <td>txt</td>\n",
       "      <td>0</td>\n",
       "      <td>0</td>\n",
       "      <td>1</td>\n",
       "      <td>0</td>\n",
       "      <td>factor</td>\n",
       "      <td>Internal</td>\n",
       "    </tr>\n",
       "    <tr>\n",
       "      <td>web.method.seq</td>\n",
       "      <td>web.method.seq</td>\n",
       "      <td>txt</td>\n",
       "      <td>0</td>\n",
       "      <td>0</td>\n",
       "      <td>1</td>\n",
       "      <td>0</td>\n",
       "      <td>factor</td>\n",
       "      <td>Internal</td>\n",
       "    </tr>\n",
       "    <tr>\n",
       "      <td>web.cdr3fix.nc</td>\n",
       "      <td>web.cdr3fix.nc</td>\n",
       "      <td>txt</td>\n",
       "      <td>0</td>\n",
       "      <td>0</td>\n",
       "      <td>1</td>\n",
       "      <td>0</td>\n",
       "      <td>factor</td>\n",
       "      <td>Internal</td>\n",
       "    </tr>\n",
       "    <tr>\n",
       "      <td>web.cdr3fix.unmp</td>\n",
       "      <td>web.cdr3fix.unmp</td>\n",
       "      <td>txt</td>\n",
       "      <td>0</td>\n",
       "      <td>0</td>\n",
       "      <td>1</td>\n",
       "      <td>0</td>\n",
       "      <td>factor</td>\n",
       "      <td>Internal</td>\n",
       "    </tr>\n",
       "  </tbody>\n",
       "</table>\n",
       "</div>"
      ],
      "text/plain": [
       "                              name type  visible  searchable  autocomplete  \\\n",
       "name                                                                         \n",
       "complex.id              complex.id  txt        0           0             0   \n",
       "gene                          gene  txt        1           1             1   \n",
       "cdr3                          cdr3  seq        1           1             0   \n",
       "v.segm                      v.segm  txt        1           1             1   \n",
       "j.segm                      j.segm  txt        1           1             1   \n",
       "species                    species  txt        1           1             1   \n",
       "mhc.a                        mhc.a  txt        1           1             1   \n",
       "mhc.b                        mhc.b  txt        1           1             1   \n",
       "mhc.class                mhc.class  txt        1           1             1   \n",
       "antigen.epitope    antigen.epitope  seq        1           1             1   \n",
       "antigen.gene          antigen.gene  txt        1           1             1   \n",
       "antigen.species    antigen.species  txt        1           1             1   \n",
       "reference.id          reference.id  txt        1           1             1   \n",
       "method                      method  txt        1           0             0   \n",
       "meta                          meta  txt        1           0             0   \n",
       "cdr3fix                    cdr3fix  txt        1           0             0   \n",
       "vdjdb.score            vdjdb.score  txt        1           1             0   \n",
       "web.method              web.method  txt        0           0             1   \n",
       "web.method.seq      web.method.seq  txt        0           0             1   \n",
       "web.cdr3fix.nc      web.cdr3fix.nc  txt        0           0             1   \n",
       "web.cdr3fix.unmp  web.cdr3fix.unmp  txt        0           0             1   \n",
       "\n",
       "                    data.type            title  \\\n",
       "name                                             \n",
       "complex.id         complex.id       complex.id   \n",
       "gene                   factor             Gene   \n",
       "cdr3                     cdr3             CDR3   \n",
       "v.segm                 factor                V   \n",
       "j.segm                 factor                J   \n",
       "species                factor          Species   \n",
       "mhc.a                  factor            MHC A   \n",
       "mhc.b                  factor            MHC B   \n",
       "mhc.class              factor        MHC class   \n",
       "antigen.epitope       peptide          Epitope   \n",
       "antigen.gene           factor     Epitope gene   \n",
       "antigen.species        factor  Epitope species   \n",
       "reference.id              url        Reference   \n",
       "method            method.json           Method   \n",
       "meta                meta.json             Meta   \n",
       "cdr3fix            fixer.json          CDR3fix   \n",
       "vdjdb.score              uint            Score   \n",
       "web.method                  0           factor   \n",
       "web.method.seq              0           factor   \n",
       "web.cdr3fix.nc              0           factor   \n",
       "web.cdr3fix.unmp            0           factor   \n",
       "\n",
       "                                                                                                              comment  \n",
       "name                                                                                                                   \n",
       "complex.id        TCR alpha and beta chain records having the same complex identifier belong to the same T-cell cl...  \n",
       "gene                                                                                        TCR chain: alpha or beta.  \n",
       "cdr3                                             TCR complementarity determining region 3 (CDR3) amino acid sequence.  \n",
       "v.segm                                                                                   TCR Variable segment allele.  \n",
       "j.segm                                                                                    TCR Joining segment allele.  \n",
       "species                                                                                           TCR parent species.  \n",
       "mhc.a                                                                                         First MHC chain allele.  \n",
       "mhc.b                                       Second MHC chain allele (defaults to Beta2Microglobulin for MHC class I).  \n",
       "mhc.class                                                                                        MHC class (I or II).  \n",
       "antigen.epitope                                                                   Amino acid sequence of the epitope.  \n",
       "antigen.gene                                                               Representative parent gene of the epitope.  \n",
       "antigen.species                                                         Representative parent species of the epitope.  \n",
       "reference.id                                       Pubmed reference / URL / or submitter details in case unpublished.  \n",
       "method                                                               Details on method used to assay TCR specificity.  \n",
       "meta                                                        Various meta-information: cell subset, donor status, etc.  \n",
       "cdr3fix           Details on CDR3 sequence fixing (if applied) and consistency between V, J and reported CDR3 sequ...  \n",
       "vdjdb.score       VDJdb confidence score, the higher is the score the more confidence we have in the antigen speci...  \n",
       "web.method                                                                                                   Internal  \n",
       "web.method.seq                                                                                               Internal  \n",
       "web.cdr3fix.nc                                                                                               Internal  \n",
       "web.cdr3fix.unmp                                                                                             Internal  "
      ]
     },
     "execution_count": 2,
     "metadata": {},
     "output_type": "execute_result"
    }
   ],
   "source": [
    "pd.set_option(\"display.max_colwidth\", 100)\n",
    "DB_PATH = 'db/'\n",
    "\n",
    "vdjdb = pd.read_csv(os.path.join(DB_PATH,'vdjdb-2018-06-04', 'vdjdb.txt'), sep='\\t')\n",
    "\n",
    "\n",
    "vdjdb_metadata = pd.read_csv(os.path.join(DB_PATH, 'vdjdb-2018-06-04', 'vdjdb.meta.txt'), sep='\\t')\n",
    "vdjdb_metadata.index = vdjdb_metadata.name\n",
    "\n",
    "\n",
    "vdjdb_metadata\n"
   ]
  },
  {
   "cell_type": "markdown",
   "metadata": {},
   "source": [
    "### McPAS-TCR\n",
    "```\n",
    "CDR3.alpha.aa: Amino acide sequence on alpha chain on TCR\n",
    "CDR3.beta.aa: Amino acide sequence on alpha chain on TCR\n",
    "Epitope.peptide: Peptide sequence on epitope\n",
    "```"
   ]
  },
  {
   "cell_type": "code",
   "execution_count": 3,
   "metadata": {},
   "outputs": [],
   "source": [
    "mcpas_tcr = pd.read_csv(os.path.join(DB_PATH, 'McPAS-TCR.csv'), encoding=\"ISO-8859-1\")\n"
   ]
  },
  {
   "cell_type": "markdown",
   "metadata": {},
   "source": [
    "### IEDB\n",
    "**What is this DB? What's happening when it is exported to csv?**"
   ]
  },
  {
   "cell_type": "code",
   "execution_count": 4,
   "metadata": {},
   "outputs": [],
   "source": [
    "iedb = pd.read_csv(os.path.join(DB_PATH, 'iedb.csv'))\n",
    "#iedb.rename(columns={'Description': 'epitope_seq',\n",
    "#                     'Antigen Description':'antigen_seq'}, \n",
    "#            inplace=True)"
   ]
  },
  {
   "cell_type": "code",
   "execution_count": 5,
   "metadata": {
    "scrolled": true
   },
   "outputs": [
    {
     "data": {
      "text/plain": [
       "{'T Cell ID': 1852427,\n",
       " 'Reference ID': 1022198,\n",
       " 'Type': 'Literature',\n",
       " 'PubMed ID': 21490152,\n",
       " 'Authors': 'Evan W Newell; Lauren K Ely; Andrew C Kruse; Philip A Reay; Stephanie N Rodriguez; Aaron E Lin; Michael S Kuhns; K Christopher Garcia; Mark M Davis',\n",
       " 'Journal': 'J Immunol',\n",
       " 'Date': 2011,\n",
       " 'Title': 'Structural basis of specificity and cross-reactivity in T cell receptors specific for cytochrome c-I-E(k).',\n",
       " 'Epitope ID': 3265,\n",
       " 'Object Type': 'Linear peptide',\n",
       " 'Description': 'ANERADLIAYLKQATK',\n",
       " 'Starting Position': 93.0,\n",
       " 'Ending Position': 108.0,\n",
       " 'Antigen Name': 'Cytochrome c',\n",
       " 'Organism Name': 'Manduca sexta',\n",
       " 'Parent Species': 'Manduca sexta',\n",
       " 'Parent Species ID': 7130.0,\n",
       " 'Name': 'Mus musculus',\n",
       " 'Host ID': 10090,\n",
       " 'Process Type': 'Administration in vivo',\n",
       " 'Immunogen Epitope Relation': 'Source Antigen',\n",
       " 'Immunogen Object Type': 'Protein',\n",
       " 'Immunogen Description': 'Cytochrome c',\n",
       " 'Immunogen Organism Name': 'Manduca sexta',\n",
       " 'Immunogen Organism Species': 'Manduca sexta',\n",
       " 'Immunogen Organism Species Accession': 7130.0,\n",
       " 'Adoptive Transfer Flag': 'N',\n",
       " 'Immunization Comments': 'The 226 TCR was originally isolated from a T cell hybridoma derived by immunizing mice expressing the transgene for the TCR beta chain of the cytochrome c-reactive T cell clone 5C.C7 with moth cytochrome c as described in the references: Ehricht al. (1993) J Exp Med 178: 713-722 [PMID: 8393480] and Jorgensen et al. (1992) Nature 355(6357):224-30 [PMID: 1309938]. The 226 TCR was expressed in bacteria as a chimeric protein of the variable domains fused to human constant domains.',\n",
       " 'Location of assay data in the manuscript': 'Figures 1, 2, 3, 4, Table S1 and PDB 3QIU',\n",
       " 'Method/Technique': 'x-ray crystallography',\n",
       " 'Assay Group': '3D structure',\n",
       " 'Units': 'angstroms',\n",
       " 'Qualitative Measure': 'Positive',\n",
       " 'Measurement Inequality': '=',\n",
       " 'Quantitative measurement': 2.7,\n",
       " 'Assayed TCR Molecule Name': '226',\n",
       " 'PDB ID': '3QIU',\n",
       " 'Allele Name': 'H2-IEk',\n",
       " 'Class': 'II',\n",
       " 'Allele Evidence Code': 'MHC binding assay',\n",
       " 'Antigen Epitope Relation': 'Epitope',\n",
       " 'Antigen Object Type': 'Linear peptide',\n",
       " 'Antigen Description': 'ANERADLIAYLKQATK',\n",
       " 'Starting Position.2': 93.0,\n",
       " 'Ending Position.2': 108.0,\n",
       " 'Antigen Source Molecule Name': 'Cytochrome c',\n",
       " 'Antigen Organism Name': 'Manduca sexta',\n",
       " 'Organism Species Name': 'Manduca sexta',\n",
       " 'Organism Species ID': 7130.0,\n",
       " 'Assay Comments': 'The crystal structure of the 226 TCR bound to the epitope/H-2-IEk complex was solved by molecular replacement. The TCR is a chimeric fusion of 226 mouse variable domains and human constant domains. The epitope was expressed tethered to the N-terminus of the TCR beta chain with a 10-residue flexible linker.'}"
      ]
     },
     "execution_count": 5,
     "metadata": {},
     "output_type": "execute_result"
    }
   ],
   "source": [
    "# sample iEDB entry\n",
    "\n",
    "{k: v for k, v in iedb.loc[1000, :].to_dict().items() if not pd.isna(v)}"
   ]
  },
  {
   "cell_type": "markdown",
   "metadata": {},
   "source": [
    "### Curate Database\n",
    "\n",
    "vdjdb + mcpas_tcr"
   ]
  },
  {
   "cell_type": "code",
   "execution_count": 6,
   "metadata": {},
   "outputs": [],
   "source": [
    "vdjdb_clean = vdjdb[vdjdb['vdjdb.score'] > 0][['antigen.epitope', 'cdr3']]\n",
    "vdjdb_clean.rename(columns={'antigen.epitope': 'epitope'}, inplace=True)\n",
    "\n",
    "# Cleaning mcpas_tcr\n",
    "mcpas_tcr_clean = mcpas_tcr[['CDR3.alpha.aa', 'CDR3.beta.aa', 'Epitope.peptide']]\n",
    "mcpas_tcr_clean = mcpas_tcr_clean[~mcpas_tcr_clean['Epitope.peptide'].isna()]\n",
    "mcpas_tcr_clean = mcpas_tcr_clean.fillna('')\n",
    "mcpas_tcr_clean['cdr3'] = mcpas_tcr_clean[['CDR3.alpha.aa','CDR3.beta.aa']].apply(lambda x: ''.join(x), axis=1)\n",
    "mcpas_tcr_clean = mcpas_tcr_clean.drop(['CDR3.alpha.aa','CDR3.beta.aa'], axis=1)\n",
    "mcpas_tcr_clean.rename(columns = {'Epitope.peptide': 'epitope'}, inplace=True)\n",
    "\n",
    "\n",
    "ep_2_cdr3 = pd.concat([vdjdb_clean, mcpas_tcr_clean])\n",
    "ep_2_cdr3.index = range(ep_2_cdr3.shape[0])\n",
    "ep_2_cdr3 = ep_2_cdr3.drop_duplicates()\n",
    "\n"
   ]
  },
  {
   "cell_type": "code",
   "execution_count": 7,
   "metadata": {},
   "outputs": [],
   "source": [
    "vdjdb_uncertain = vdjdb[vdjdb['vdjdb.score'] == 0][['antigen.epitope', 'cdr3']]\n",
    "vdjdb_uncertain.rename(columns={'antigen.epitope': 'epitope'}, inplace=True)\n",
    "\n",
    "# Maybe I can use the uncertain ones for evaluation?\n",
    "#vdjdb_uncertain.to_csv('db/ep2cdr3_eval.csv')"
   ]
  },
  {
   "cell_type": "code",
   "execution_count": 8,
   "metadata": {},
   "outputs": [
    {
     "name": "stdout",
     "output_type": "stream",
     "text": [
      "Num Unique Epitopes: 448\n",
      "Num Unique cdr33: 17332\n"
     ]
    }
   ],
   "source": [
    "print(\"Num Unique Epitopes: \" + str(len(ep_2_cdr3.epitope.unique())))\n",
    "print(\"Num Unique cdr33: \" + str(len(ep_2_cdr3.cdr3.unique())))\n",
    "\n",
    "ep_2_cdr3.head()\n",
    "ep_2_cdr3 = ep_2_cdr3.sample(frac=1)\n",
    "#ep_2_cdr3.to_csv('db/ep2cdr3_train.csv')"
   ]
  },
  {
   "cell_type": "code",
   "execution_count": 9,
   "metadata": {},
   "outputs": [],
   "source": [
    "_valid_amino_acids = set([a for a in 'ACDEFGHIKLMNOPQRSTVWXY'])\n",
    "\n",
    "def is_valid_sequence(seq):\n",
    "    return len(set([a for a in seq]).difference(_valid_amino_acids)) == 0 and len(seq) > 0\n",
    "\n",
    "df = ep_2_cdr3[ep_2_cdr3.epitope.apply(is_valid_sequence) & ep_2_cdr3.cdr3.apply(is_valid_sequence)]"
   ]
  },
  {
   "cell_type": "code",
   "execution_count": 16,
   "metadata": {
    "scrolled": true
   },
   "outputs": [
    {
     "data": {
      "text/plain": [
       "['YMPTTIIAA',\n",
       " 'TVYGFCLL',\n",
       " 'TPQDLNTML',\n",
       " 'EAAGIGILTV',\n",
       " 'ASNENMETM',\n",
       " 'GILGFVFTL',\n",
       " 'GILGFVFTL',\n",
       " 'ASNENMETM',\n",
       " 'HPKVSSEVHI',\n",
       " 'LSLRNPILV']"
      ]
     },
     "execution_count": 16,
     "metadata": {},
     "output_type": "execute_result"
    }
   ],
   "source": [
    "df.epitope.sample(10).tolist()\n",
    "\"\"\"\n",
    "['YMPTTIIAA',\n",
    " 'TVYGFCLL',\n",
    " 'TPQDLNTML',\n",
    " 'EAAGIGILTV',\n",
    " 'ASNENMETM',\n",
    " 'GILGFVFTL',\n",
    " 'GILGFVFTL',\n",
    " 'ASNENMETM',\n",
    " 'HPKVSSEVHI',\n",
    " 'LSLRNPILV']\n",
    "\"\"\""
   ]
  },
  {
   "cell_type": "code",
   "execution_count": 18,
   "metadata": {},
   "outputs": [],
   "source": [
    "df.to_csv('db/ep2cdr3_train.csv')"
   ]
  },
  {
   "cell_type": "code",
   "execution_count": 11,
   "metadata": {},
   "outputs": [
    {
     "data": {
      "text/plain": [
       "40"
      ]
     },
     "execution_count": 11,
     "metadata": {},
     "output_type": "execute_result"
    }
   ],
   "source": [
    "len(max(df.cdr3.tolist(), key=len))"
   ]
  },
  {
   "cell_type": "code",
   "execution_count": 12,
   "metadata": {},
   "outputs": [
    {
     "name": "stdout",
     "output_type": "stream",
     "text": [
      "\n",
      "\n",
      "Number of Unique Epitopes:438\n",
      "Min: 8 amino acids\n",
      "Max: 24 amino acids\n"
     ]
    },
    {
     "data": {
      "image/png": "[encoded data removed]",
      "text/plain": [
       "<Figure size 432x288 with 1 Axes>"
      ]
     },
     "metadata": {
      "needs_background": "light"
     },
     "output_type": "display_data"
    }
   ],
   "source": [
    "%matplotlib inline\n",
    "import matplotlib.pyplot as plt\n",
    "plt.hist([len(e) for e in df.epitope.unique().tolist()], bins=12)\n",
    "plt.xlabel(\"Length of Epitopes Sequence\")\n",
    "plt.ylabel(\"Frequency\")\n",
    "print('\\n\\nNumber of Unique Epitopes:' + str(len(df.epitope.unique().tolist())))\n",
    "print(\"Min: \" + str(len(min(df.epitope.tolist(), key=len))) + \" amino acids\")\n",
    "print(\"Max: \" + str(len(max(df.epitope.tolist(), key=len))) + \" amino acids\")"
   ]
  },
  {
   "cell_type": "code",
   "execution_count": 13,
   "metadata": {},
   "outputs": [
    {
     "name": "stdout",
     "output_type": "stream",
     "text": [
      "\n",
      "\n",
      "Number of Unique CDR3s:17261\n",
      "Min: 5 amino acids\n",
      "Max: 40 amino acids\n"
     ]
    },
    {
     "data": {
      "image/png": "[encoded data removed]",
      "text/plain": [
       "<Figure size 432x288 with 1 Axes>"
      ]
     },
     "metadata": {
      "needs_background": "light"
     },
     "output_type": "display_data"
    }
   ],
   "source": [
    "%matplotlib inline\n",
    "import matplotlib.pyplot as plt\n",
    "plt.hist([len(e) for e in df.cdr3.unique().tolist()], bins=20)\n",
    "plt.xlabel(\"Length of CDR3 Sequence\")\n",
    "plt.ylabel(\"Frequency\")\n",
    "print('\\n\\nNumber of Unique CDR3s:' + str(len(df.cdr3.unique().tolist()))) \n",
    "print(\"Min: \" + str(len(min(df.cdr3.tolist(), key=len))) + \" amino acids\")\n",
    "print(\"Max: \" + str(len(max(df.cdr3.tolist(), key=len))) + \" amino acids\")"
   ]
  },
  {
   "cell_type": "code",
   "execution_count": 14,
   "metadata": {},
   "outputs": [
    {
     "data": {
      "text/plain": [
       "count     438.000000\n",
       "mean       40.858447\n",
       "std       170.313772\n",
       "min         1.000000\n",
       "25%         2.000000\n",
       "50%         4.000000\n",
       "75%        12.750000\n",
       "max      2142.000000\n",
       "Name: cdr3, dtype: float64"
      ]
     },
     "execution_count": 14,
     "metadata": {},
     "output_type": "execute_result"
    },
    {
     "data": {
      "image/png": "[encoded data removed]",
      "text/plain": [
       "<Figure size 432x288 with 1 Axes>"
      ]
     },
     "metadata": {
      "needs_background": "light"
     },
     "output_type": "display_data"
    }
   ],
   "source": [
    "cdr3_counts = df.groupby('epitope').count().sort_values(by='cdr3', ascending=False)\n",
    "\n",
    "plt.hist(cdr3_counts.cdr3.tolist())\n",
    "plt.xlabel(\"Number of CDR3 Sequences per Epitope Sequence\")\n",
    "plt.ylabel(\"Frequency\")\n",
    "\n",
    "cdr3_counts.cdr3.describe()"
   ]
  },
  {
   "cell_type": "markdown",
   "metadata": {},
   "source": [
    "### Data Load\n",
    "Modified `data_load.py` from open-source [transformer](https://www.github.com/kyubyong/transformer) repository"
   ]
  },
  {
   "cell_type": "code",
   "execution_count": null,
   "metadata": {},
   "outputs": [],
   "source": [
    "from transformer.data_load import *\n",
    "\n",
    "df = pd.read_csv('db/ep2cdr3_train.csv')\n",
    "epitopes = df.epitope.apply(str).tolist()\n",
    "cdr3s = df.cdr3.apply(str).tolist()\n",
    "batches = input_fn(epitopes, cdr3s, vocabs, batch_size=8, shuffle=False)\n"
   ]
  },
  {
   "cell_type": "code",
   "execution_count": null,
   "metadata": {},
   "outputs": [],
   "source": [
    "vocabs = [a for a in 'ACDEFGHIKLMNOPQRSTVWXY']\n",
    " \n",
    "def load_vocab(vocabs=vocabs):\n",
    "    '''\n",
    "    idx <-> token mapping\n",
    "    These mappings are reserved\n",
    "    0: <pad>, 1: <unk>, 2: <s>, 3: </s>\n",
    "    '''\n",
    "    token2idx = {token: idx+4 for idx, token in enumerate(vocabs)}\n",
    "    token2idx.update({\n",
    "         '<pad>': 0, '<unk>': 1, '<s>': 2, '</s>': 3\n",
    "    }) \n",
    "    idx2token = {idx: token for token, idx in token2idx.items()}\n",
    " \n",
    "    return token2idx, idx2token\n"
   ]
  },
  {
   "cell_type": "code",
   "execution_count": null,
   "metadata": {
    "scrolled": true
   },
   "outputs": [],
   "source": [
    "import tensorflow as tf"
   ]
  },
  {
   "cell_type": "code",
   "execution_count": null,
   "metadata": {},
   "outputs": [],
   "source": [
    "inp = tf.constant([24]* 48, dtype=tf.int32)\n",
    "_, idx2token = load_vocab()\n",
    "def convert_idx_to_token_tensor(inputs, idx2token):\n",
    "    def my_func(inputs):\n",
    "        return \"\".join(idx2token[elem] for elem in inputs)\n",
    "    \n",
    "    return tf.py_func(my_func, [inputs], tf.string)"
   ]
  },
  {
   "cell_type": "code",
   "execution_count": null,
   "metadata": {},
   "outputs": [],
   "source": []
  }
 ],
 "metadata": {
  "kernelspec": {
   "display_name": "mindslab",
   "language": "python",
   "name": "ml"
  },
  "language_info": {
   "codemirror_mode": {
    "name": "ipython",
    "version": 3
   },
   "file_extension": ".py",
   "mimetype": "text/x-python",
   "name": "python",
   "nbconvert_exporter": "python",
   "pygments_lexer": "ipython3",
   "version": "3.7.4"
  }
 },
 "nbformat": 4,
 "nbformat_minor": 2
}
